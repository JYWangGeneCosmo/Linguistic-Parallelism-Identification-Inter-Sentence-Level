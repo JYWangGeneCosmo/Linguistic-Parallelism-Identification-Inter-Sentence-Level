{
 "cells": [
  {
   "cell_type": "code",
   "execution_count": 1,
   "metadata": {},
   "outputs": [],
   "source": [
    "import os\n",
    "import nltk\n",
    "import pandas as pd\n",
    "import csv\n",
    "import math\n",
    "import re"
   ]
  },
  {
   "cell_type": "markdown",
   "metadata": {},
   "source": [
    "## Preprocessing \n",
    "#### Tokenizing;  Tagging;  Segmentation;  Establishing annotation-corpus "
   ]
  },
  {
   "cell_type": "code",
   "execution_count": 13,
   "metadata": {},
   "outputs": [
    {
     "name": "stdout",
     "output_type": "stream",
     "text": [
      "['2009-01-20-Barack-Obama.txt', '1993-01-20-William-J-Clinton.txt', '2017-01-20-Donald-J-Trump.txt', '2001-01-20-George-W-Bush.txt']\n"
     ]
    }
   ],
   "source": [
    "filelist = [filename for filename in os.listdir(\"./Dataset\") if filename.endswith(\"txt\")]\n",
    "print(filelist)"
   ]
  },
  {
   "cell_type": "code",
   "execution_count": 14,
   "metadata": {},
   "outputs": [],
   "source": [
    "from nltk.tag.stanford import StanfordPOSTagger\n",
    "# enter the paths of Stanford POS Tagger .jar file as well as the model to be used\n",
    "jar = \"/Users/Shared/stanford-postagger-full-2018-10-16/stanford-postagger-3.9.2.jar\"\n",
    "model = \"/Users/Shared/stanford-postagger-full-2018-10-16/models/english-left3words-distsim.tagger\"\n",
    "# Instantiate an English pos-tagger using the jar and model defined above \n",
    "pos_tagger_en = StanfordPOSTagger(model, jar, encoding = \"utf-8\")"
   ]
  },
  {
   "cell_type": "code",
   "execution_count": 15,
   "metadata": {},
   "outputs": [
    {
     "name": "stdout",
     "output_type": "stream",
     "text": [
      "2009-01-20-Barack-Obama.txt\n",
      "1993-01-20-William-J-Clinton.txt\n",
      "2017-01-20-Donald-J-Trump.txt\n",
      "2001-01-20-George-W-Bush.txt\n"
     ]
    }
   ],
   "source": [
    "# Use Stanford POS-tagger defined above to Tag all source texts (English)\n",
    "\n",
    "for fileid in filelist:\n",
    "    print(fileid)            \n",
    "    with open (\"Dataset/\" + fileid, encoding = \"utf-8\") as f:   \n",
    "        raw = f.read()\n",
    "        tokenized_text = nltk.word_tokenize(raw)              # tokenizing\n",
    "        tagged_text = pos_tagger_en.tag(tokenized_text)      # pos-tagging\n",
    "\n",
    "# Write the tagged text into new .txt files in specific format respectively\n",
    "\n",
    "        with open (\"Dataset/Tagged/\" + fileid, \"w\", encoding = \"utf-8\") as tag_f:\n",
    "            write_text = \"\"\n",
    "            for (a, b) in tagged_text:\n",
    "                write_text += a + \"_\" + b +\" \"   # Combine word and tag together in the format: \"My_PRP$ \"\n",
    "            \n",
    "            # Add newline character after the character which marks the end of a sentence \n",
    "            # \"_.\" includes \"!\", \"?\" these sentence closers and \"_:\" includes \";\", \":\", \"--\" \n",
    "            \n",
    "            result = write_text.replace(\"_. \", \"_.\\n\").replace(\"_:\", \"_:\\n\")\n",
    "    \n",
    "            tag_f.write(result)       # Write all the results into corresponding .txt file.\n",
    "        "
   ]
  },
  {
   "cell_type": "code",
   "execution_count": 16,
   "metadata": {},
   "outputs": [],
   "source": [
    "for fileid in filelist:\n",
    "    with open (\"Dataset/Tagged/\"+ fileid) as f:\n",
    "        sentences = [row for row in f]\n",
    "        # Get corresponding .csv files which contains sentence pairs of the speech in the first and second column.\n",
    "        df_sent = pd.DataFrame({\"sent_pair_1\" : sentences[:-1], \"sent_pair_2\" : sentences[1:]})\n",
    "        df_sent.to_csv(\"Dataset/Tagged/\"+ fileid[:-4] + \"_sent_pair.csv\", sep = \",\", encoding = \"utf-8\", index = False)"
   ]
  },
  {
   "cell_type": "markdown",
   "metadata": {},
   "source": [
    "## Feature Engineering "
   ]
  },
  {
   "cell_type": "code",
   "execution_count": 2,
   "metadata": {},
   "outputs": [],
   "source": [
    "# Feature for special types of parallelism: Anaphora / Epistrophe / Anadiplosis\n",
    "# Check whether repetition of bigrams occurs in sentence-initial/-final position\n",
    "\n",
    "def specialParaLexical(sent1, sent2):\n",
    "    numRepetitionBi = 0\n",
    "    s1 = sent1.split()\n",
    "    s2 = sent2.split()\n",
    "    if len(s1) < 4 or len(s2) < 4:\n",
    "        return 0\n",
    "    # For Epistrophe and Anadiplosis\n",
    "    for bi in nltk.bigrams([w.lower() for w in s1[-4:]]):\n",
    "        if bi in nltk.bigrams([w.lower() for w in s2[-4:]]) or bi in nltk.bigrams([w.lower() for w in s2[:4]]):\n",
    "            numRepetitionBi += 1\n",
    "    # For Anaphora\n",
    "    if numRepetitionBi == 0:\n",
    "        while len(s1) > 3:             # The sentence-initial/-final part should consist of at least 4 words\n",
    "            bi_initialS1 = nltk.bigrams([w.lower() for w in s1[:4]])\n",
    "            bi_initialS2 = nltk.bigrams([w.lower() for w in s2[:4]])\n",
    "            for bi in bi_initialS1:\n",
    "                if bi in bi_initialS2:\n",
    "                    numRepetitionBi += 1\n",
    "            if \",_,\" not in s1 or numRepetitionBi > 0:\n",
    "                break\n",
    "            # Tackle the situation when sent1 is partially parallel with sent2\n",
    "            elif \",_,\" in s1: \n",
    "                # Chop off the unparallel sub-sentence and \n",
    "                # continue searching parallel structure in the rest of the sentence\n",
    "                s1 = s1[s1.index(\",_,\")+1 :] \n",
    "        while len(s2) > 3:\n",
    "            bi_initialS1 = nltk.bigrams([w.lower() for w in s1[:4]])\n",
    "            bi_initialS2 = nltk.bigrams([w.lower() for w in s2[:4]])\n",
    "            for bi in bi_initialS2:\n",
    "                if bi in bi_initialS1:\n",
    "                    numRepetitionBi += 1\n",
    "            if \",_,\" not in s2 or numRepetitionBi > 0:\n",
    "                break\n",
    "            # Tackle the situation when sent2 is partially parallel with sent1\n",
    "            elif \",_,\" in s2: \n",
    "                # Chop off the unparallel sub-sentence and \n",
    "                # continue searching parallel structure in the rest of the sentence\n",
    "                    s2 = s2[s2.index(\",_,\")+1 :] \n",
    "    \n",
    "    return numRepetitionBi"
   ]
  },
  {
   "cell_type": "code",
   "execution_count": 3,
   "metadata": {},
   "outputs": [
    {
     "data": {
      "text/plain": [
       "1"
      ]
     },
     "execution_count": 3,
     "metadata": {},
     "output_type": "execute_result"
    }
   ],
   "source": [
    "specialParaLexical(\"We_PRP are_VBP not_RB this_DT story_NN 's_POS author_NN ,_, who_WP fills_VBZ time_NN and_CC eternity_NN with_IN his_PRP$ purpose_NN ._.\",\"Yet_CC ,_, his_PRP$ purpose_NN is_VBZ achieved_VBN in_IN our_PRP$ duty_NN ._.\")"
   ]
  },
  {
   "cell_type": "code",
   "execution_count": 4,
   "metadata": {},
   "outputs": [],
   "source": [
    "# Test some sentence pairs\n",
    "s1 = \"We_PRP rededicate_VB ourselves_PRP to_TO the_DT very_RB idea_NN of_IN America_NNP ,_, an_DT idea_NN born_VBN in_IN revolution_NN and_CC renewed_VBN through_IN two_CD centuries_NNS of_IN challenge_NN ;_:\"\n",
    "s2 = \"an_DT idea_NN tempered_VBN by_IN the_DT knowledge_NN that_IN ,_, but_CC for_IN fate_NN ,_, we_PRP ,_, the_DT fortunate_JJ ,_, and_CC the_DT unfortunate_JJ might_MD have_VB been_VBN each_DT other_JJ ;_:\"\n",
    "s3 = \" an_DT idea_NN ennobled_VBN by_IN the_DT faith_NN that_WDT our_PRP$ Nation_NNP can_MD summon_VB from_IN its_PRP$ myriad_JJ diversity_NN the_DT deepest_JJS measure_NN of_IN unity_NN ;_:\"\n",
    "\n",
    "s4 = \"We_PRP will_MD make_VB America_NNP safe_JJ again_RB ._.\"\n",
    "s5 = \"And_CC ,_, yes_UH ,_, together_RB ,_, we_PRP will_MD make_VB America_NNP great_JJ again_RB ._.\""
   ]
  },
  {
   "cell_type": "code",
   "execution_count": 5,
   "metadata": {},
   "outputs": [],
   "source": [
    "s6 = \"We_PRP remain_VBP a_DT young_JJ nation_NN ,_, but_CC in_IN the_DT words_NNS of_IN Scripture_NNP ,_, the_DT time_NN has_VBZ come_VBN to_TO set_VB aside_RB childish_JJ things_NNS ._.\"\n",
    "s7 = \"The_DT time_NN has_VBZ come_VBN to_TO reaffirm_VB our_PRP$ enduring_VBG spirit_NN ,_, to_TO choose_VB our_PRP$ better_JJR history_NN ,_, to_TO carry_VB forward_RP that_DT precious_JJ gift_NN ,_, that_WDT noble_JJ idea_NN passed_VBN on_IN from_IN generation_NN to_TO generation_NN :_:\""
   ]
  },
  {
   "cell_type": "code",
   "execution_count": 6,
   "metadata": {},
   "outputs": [
    {
     "name": "stdout",
     "output_type": "stream",
     "text": [
      "2\n",
      "2\n",
      "0\n"
     ]
    }
   ],
   "source": [
    "print(specialParaLexical(s1, s2))\n",
    "print(specialParaLexical(s1, s3))\n",
    "print(specialParaLexical(s1, s4))"
   ]
  },
  {
   "cell_type": "markdown",
   "metadata": {},
   "source": [
    "### Parameter Selection for Semantic (Emotional) Features "
   ]
  },
  {
   "cell_type": "code",
   "execution_count": 7,
   "metadata": {},
   "outputs": [],
   "source": [
    "import spacy\n",
    "import pandas as pd\n",
    "import numpy as np\n",
    "import matplotlib.pyplot as plt\n",
    "nlp = spacy.load(\"en_core_web_md\")"
   ]
  },
  {
   "cell_type": "markdown",
   "metadata": {},
   "source": [
    "#### Process the VAD lexicon "
   ]
  },
  {
   "cell_type": "code",
   "execution_count": 8,
   "metadata": {},
   "outputs": [
    {
     "name": "stdout",
     "output_type": "stream",
     "text": [
      "Altogether  19874 entries can be used in this project.\n"
     ]
    }
   ],
   "source": [
    "info = []\n",
    "with open (\"/Users/genecosmo/Desktop/Projekt_CL/Senti_Lexi/NRC-VAD-Lexicon.txt\", encoding = \"utf-8\") as f:\n",
    "    raw = f.readlines()\n",
    "    info = [row.split() for row in raw[1:]]\n",
    "    # There are some entries which contains phrases or describing words for the word. \n",
    "        #['business', 'man', '0.530', '0.598', '0.933']\n",
    "        #['extremely', 'negative', '0.030', '0.786', '0.311']\n",
    "        #['extremely', 'positive', '0.993', '0.730', '0.839'] \n",
    "    # These kind of entries can be problematic for processing and thus are deleted in this project.\n",
    "    cleanedInfo = [row for row in info if len(row)== 4]\n",
    "    print(\"Altogether \", len(cleanedInfo), \"entries can be used in this project.\")"
   ]
  },
  {
   "cell_type": "code",
   "execution_count": 9,
   "metadata": {},
   "outputs": [
    {
     "data": {
      "text/plain": [
       "0.006647673314339981"
      ]
     },
     "execution_count": 9,
     "metadata": {},
     "output_type": "execute_result"
    }
   ],
   "source": [
    "(len(info) - 19874 )/20007"
   ]
  },
  {
   "cell_type": "code",
   "execution_count": 10,
   "metadata": {},
   "outputs": [
    {
     "name": "stdout",
     "output_type": "stream",
     "text": [
      "0.672\n"
     ]
    }
   ],
   "source": [
    "# Store the data in a managable way.\n",
    "entries = [item[0] for item in cleanedInfo]\n",
    "valence = [item[1] for item in cleanedInfo]\n",
    "arousal = [item[2] for item in cleanedInfo]\n",
    "dominance = [item[3] for item in cleanedInfo]\n",
    "dict_W_V = dict(zip(entries, valence))\n",
    "dict_W_A = dict(zip(entries, arousal))\n",
    "dict_W_D = dict(zip(entries, dominance))\n",
    "print(dict_W_D[\"renewal\"])"
   ]
  },
  {
   "cell_type": "code",
   "execution_count": 11,
   "metadata": {},
   "outputs": [
    {
     "name": "stdout",
     "output_type": "stream",
     "text": [
      "[['sent_pair_1', 'sent_pair_2', 'tag'], ['Chief_NNP Justice_NNP Roberts_NNP ,_, President_NNP Carter_NNP ,_, President_NNP Clinton_NNP ,_, President_NNP Bush_NNP ,_, President_NNP Obama_NNP ,_, fellow_JJ Americans_NNPS ,_, and_CC people_NNS of_IN the_DT world_NN :_:\\n', ' Thank_VB you_PRP ._.\\n', 'F'], [' Thank_VB you_PRP ._.\\n', 'We_PRP ,_, the_DT citizens_NNS of_IN America_NNP ,_, are_VBP now_RB joined_VBN in_IN a_DT great_JJ national_JJ effort_NN to_TO rebuild_VB our_PRP$ country_NN and_CC restore_VB its_PRP$ promise_NN for_IN all_DT of_IN our_PRP$ people_NNS ._.\\n', 'F']]\n",
      "\n",
      "Altogether  448 pairs of sentences.\n",
      "100 pairs are tagged as T.\n",
      "348 pairs are tagged as F.\n"
     ]
    }
   ],
   "source": [
    "# Basic information of the dataset\n",
    "rows = []\n",
    "with open (\"/Users/genecosmo/Desktop/Projekt_CL/Dataset/Dataset_JW_0103.csv\", encoding = \"utf-8\") as f:\n",
    "    raw = csv.reader(f, delimiter = \",\")\n",
    "    rows = [row for row in raw]\n",
    "    print(rows[:3])\n",
    "print()\n",
    "dataset = rows[1:]\n",
    "sentsP1 = [item[0] for item in dataset]\n",
    "tags = [item[2] for item in dataset]\n",
    "print(\"Altogether \", len(tags), \"pairs of sentences.\")\n",
    "print(tags.count(\"T\"), \"pairs are tagged as T.\")\n",
    "print(tags.count(\"F\"), \"pairs are tagged as F.\")"
   ]
  },
  {
   "cell_type": "code",
   "execution_count": 12,
   "metadata": {},
   "outputs": [],
   "source": [
    "# Method for getting list of lemmas of all words in a sentence \n",
    "def lemmatize(sent):\n",
    "    sent = \" \".join([w[:w.index(\"_\")] for w in sent.split()])\n",
    "    doc = nlp(sent)       \n",
    "    lemmas = [token.lemma_.lower() for token in doc if not token.is_punct]\n",
    "    return lemmas"
   ]
  },
  {
   "cell_type": "code",
   "execution_count": 13,
   "metadata": {},
   "outputs": [
    {
     "data": {
      "text/plain": [
       "['the', 'enemy', 'be', 'advance']"
      ]
     },
     "execution_count": 13,
     "metadata": {},
     "output_type": "execute_result"
    }
   ],
   "source": [
    "lemmatize( 'The_DT enemy_NN was_VBD advancing_VBG ._.')"
   ]
  },
  {
   "cell_type": "code",
   "execution_count": 14,
   "metadata": {},
   "outputs": [],
   "source": [
    "def getAvgArousal(sent):\n",
    "    sumScore=0\n",
    "    lemmas = lemmatize(sent)\n",
    "    for lemma in lemmas:\n",
    "        for key in dict_W_A.keys():\n",
    "            if lemma==key:\n",
    "                sumScore += float(dict_W_A[key])\n",
    "    if len(lemmas) == 0:\n",
    "        return 0\n",
    "    else:\n",
    "        avg = round(sumScore/len(lemmas), 4)\n",
    "        return avg"
   ]
  },
  {
   "cell_type": "code",
   "execution_count": 15,
   "metadata": {},
   "outputs": [
    {
     "name": "stdout",
     "output_type": "stream",
     "text": [
      "0.3765\n",
      "0.3147\n"
     ]
    }
   ],
   "source": [
    "print(getAvgArousal(\"The_DT enemy_NN was_VBD advancing_VBG ._.\"))\n",
    "print(getAvgArousal(\"The_DT Capital_NN was_VBD abandoned_VBN ._.\"))"
   ]
  },
  {
   "cell_type": "code",
   "execution_count": 16,
   "metadata": {},
   "outputs": [],
   "source": [
    "def getAvgDominance(sent):\n",
    "    sumScore=0\n",
    "    lemmas = lemmatize(sent)\n",
    "    for lemma in lemmas:\n",
    "        for key in dict_W_D.keys():\n",
    "            if lemma==key:\n",
    "                sumScore += float(dict_W_D[key])\n",
    "    if len(lemmas) == 0:\n",
    "        return 0\n",
    "    else:\n",
    "        avg = round(sumScore/len(lemmas), 4)\n",
    "        return avg"
   ]
  },
  {
   "cell_type": "code",
   "execution_count": 17,
   "metadata": {},
   "outputs": [],
   "source": [
    "def getAvgV(sent):\n",
    "    sumScore=0\n",
    "    lemmas = lemmatize(sent)\n",
    "    for lemma in lemmas:\n",
    "        for key in dict_W_V.keys():\n",
    "            if lemma==key:\n",
    "                sumScore += float(dict_W_V[key])\n",
    "    if len(lemmas) == 0:\n",
    "        return 0\n",
    "    else:\n",
    "        avg = round(sumScore/len(lemmas), 4)\n",
    "        return avg"
   ]
  },
  {
   "cell_type": "code",
   "execution_count": 18,
   "metadata": {},
   "outputs": [],
   "source": [
    "# Get the average Arousal & Dominance scores for all sentences\n",
    "# and store them in corresponding lists.\n",
    "intensity_V = []\n",
    "intensity_A = []\n",
    "intensity_D = []\n",
    "for sent in sentsP1:\n",
    "    intensity_V.append(getAvgV(sent))\n",
    "    \n",
    "for sent in sentsP1:\n",
    "    intensity_A.append(getAvgArousal(sent))\n",
    "    \n",
    "for sent in sentsP1:\n",
    "    intensity_D.append(getAvgDominance(sent))"
   ]
  },
  {
   "cell_type": "code",
   "execution_count": 89,
   "metadata": {},
   "outputs": [],
   "source": [
    "# Plot the scores of the corresponding emotional dimension \n",
    "# for a specified number of sentences \n",
    "\n",
    "def plotScores(emoDimension, num):\n",
    "    axis_x = [i for i in range(num, num+100)]\n",
    "    print(len(axis_x))\n",
    "    axis_y1 = intensity_A[num:num+100]\n",
    "    axis_y2 = intensity_D[num:num+100]\n",
    "\n",
    "    plt.figure(figsize=(10,5), dpi=80)\n",
    "    plt.plot(axis_x, axis_y1, label = \"Arousal\")\n",
    "    plt.plot(axis_x, axis_y2, label = \"Dominance\")\n",
    "    plt.xlabel(\"index of the sentence-pair\")\n",
    "    plt.ylabel(\"Scores\")\n",
    "    plt.title(\"Emotional Dynamics\")\n",
    "    plt.legend()\n",
    "    plt.grid(True)\n",
    "    plt.tight_layout()\n",
    "    plt.show()"
   ]
  },
  {
   "cell_type": "code",
   "execution_count": 90,
   "metadata": {},
   "outputs": [
    {
     "name": "stdout",
     "output_type": "stream",
     "text": [
      "100\n"
     ]
    },
    {
     "data": {
      "image/png": "[encoded data removed]",
      "text/plain": [
       "<Figure size 800x400 with 1 Axes>"
      ]
     },
     "metadata": {
      "needs_background": "light"
     },
     "output_type": "display_data"
    }
   ],
   "source": [
    "# Plot the Dominance scores for the 100 sentences \n",
    "plotScores(\"Dominance\",200)"
   ]
  },
  {
   "cell_type": "markdown",
   "metadata": {},
   "source": [
    "#### Find the suitable parameter for extracting the semantic feature later. "
   ]
  },
  {
   "cell_type": "code",
   "execution_count": 21,
   "metadata": {},
   "outputs": [
    {
     "name": "stdout",
     "output_type": "stream",
     "text": [
      "Proportion of 'T' - Whole dataset:  0.2232\n"
     ]
    }
   ],
   "source": [
    "#Propotion of the parallel sentence-pairs in the whole dataset\n",
    "print(\"Proportion of 'T' - Whole dataset: \", round(tags.count(\"T\")/len(tags), 4))"
   ]
  },
  {
   "cell_type": "code",
   "execution_count": 22,
   "metadata": {},
   "outputs": [],
   "source": [
    "# Calculate the proportion of parallel sentence-pairs under certain conditions.\n",
    "#     Condition 2: When the intensity (Arousal or Doninance) of both sentences in a sentence pair \n",
    "#                  are greater than a certain threshold.\n",
    "# Select the threshold that can get the highest proportion under Condition 2 and enough samples.\n",
    "\n",
    "def getProportion_High(threshold, emoDimension):\n",
    "    Ts = 0\n",
    "    Fs = 0\n",
    "    for index in range(len(tags)-1):\n",
    "        if emoDimension[index] > threshold and emoDimension[index+1] > threshold:\n",
    "            if tags[index] == \"T\" :\n",
    "                Ts+=1\n",
    "            else:\n",
    "                Fs +=1\n",
    "    #print(Ts, \"Ts\")\n",
    "    #print(Fs, \"Fs\")\n",
    "    if Fs+Ts == 0:\n",
    "        return 0\n",
    "    else:\n",
    "        proportion = round(Ts/(Fs+Ts), 4)\n",
    "        return proportion\n"
   ]
  },
  {
   "cell_type": "code",
   "execution_count": 23,
   "metadata": {},
   "outputs": [
    {
     "data": {
      "text/plain": [
       "0.8"
      ]
     },
     "execution_count": 23,
     "metadata": {},
     "output_type": "execute_result"
    }
   ],
   "source": [
    "getProportion_High(0.38, intensity_D)"
   ]
  },
  {
   "cell_type": "code",
   "execution_count": 24,
   "metadata": {},
   "outputs": [
    {
     "data": {
      "text/plain": [
       "0.7778"
      ]
     },
     "execution_count": 24,
     "metadata": {},
     "output_type": "execute_result"
    }
   ],
   "source": [
    "getProportion_High(0.29, intensity_A)"
   ]
  },
  {
   "cell_type": "code",
   "execution_count": 25,
   "metadata": {},
   "outputs": [],
   "source": [
    "def plot_Proportion_High(emoDimension):\n",
    "    axis_x = [0.01* x for x in range(0,60)]\n",
    "    axis_y = []\n",
    "    for x in axis_x:\n",
    "        axis_y.append(getProportion_High(x, emoDimension) * 100)\n",
    "    plt.figure(figsize=(10,4), dpi=60)\n",
    "    plt.plot(axis_x, axis_y)\n",
    "    plt.xlabel(\"Threshold\")\n",
    "    plt.ylabel(\"Proportion of Parallelism (%)\")\n",
    "    plt.grid(True)\n",
    "    plt.tight_layout()\n",
    "    plt.show()\n",
    "\n"
   ]
  },
  {
   "cell_type": "code",
   "execution_count": 26,
   "metadata": {},
   "outputs": [
    {
     "data": {
      "image/png": "[encoded data removed]",
      "text/plain": [
       "<Figure size 600x240 with 1 Axes>"
      ]
     },
     "metadata": {
      "needs_background": "light"
     },
     "output_type": "display_data"
    }
   ],
   "source": [
    "plot_Proportion_High(intensity_A)"
   ]
  },
  {
   "cell_type": "code",
   "execution_count": 27,
   "metadata": {},
   "outputs": [
    {
     "data": {
      "image/png": "[encoded data removed]",
      "text/plain": [
       "<Figure size 600x240 with 1 Axes>"
      ]
     },
     "metadata": {
      "needs_background": "light"
     },
     "output_type": "display_data"
    }
   ],
   "source": [
    "plot_Proportion_High(intensity_D)"
   ]
  },
  {
   "cell_type": "code",
   "execution_count": 28,
   "metadata": {},
   "outputs": [],
   "source": [
    "# Calculate the proportion of parallel sentence-pairs under certain conditions.\n",
    "#     Condition 1: When the difference (absolute value) of intensity (Arousal or Doninance)\n",
    "#                  is lower than a certain threshold.\n",
    "# Select the threshold that can get the highest proportion under Condition 1 and enough samples.\n",
    "\n",
    "def getProportion_Diff(threshold, emoDimension): \n",
    "    Ts = 0\n",
    "    Fs = 0\n",
    "    for index in range(len(tags)-1):\n",
    "        if abs(emoDimension[index] - emoDimension[index+1]) < threshold: \n",
    "            if tags[index] == \"T\" :\n",
    "                #print(index)\n",
    "                Ts+=1\n",
    "            else:\n",
    "                Fs +=1\n",
    "    #print(Ts, \"Ts\")\n",
    "    #print(Fs, \"Fs\")\n",
    "    if Fs+Ts == 0:\n",
    "        return 0\n",
    "    else:\n",
    "        proportion = round(Ts/(Fs+Ts), 4)\n",
    "        return proportion  \n"
   ]
  },
  {
   "cell_type": "code",
   "execution_count": 74,
   "metadata": {},
   "outputs": [
    {
     "name": "stdout",
     "output_type": "stream",
     "text": [
      "0.257\n",
      "0.3611\n"
     ]
    }
   ],
   "source": [
    "print(getProportion_Diff(0.06,intensity_D))\n",
    "print(getProportion_Diff(0.01,intensity_V))\n"
   ]
  },
  {
   "cell_type": "code",
   "execution_count": 30,
   "metadata": {},
   "outputs": [],
   "source": [
    "def plot_Proportion_Diff(emoDimension):\n",
    "    axis_x = [0.01* x for x in range(30)]\n",
    "    axis_y = []\n",
    "    for x in axis_x:\n",
    "        axis_y.append(getProportion_Diff(x, emoDimension)*100)\n",
    "    plt.figure(figsize=(7,4), dpi=60)\n",
    "    plt.plot(axis_x, axis_y)\n",
    "    plt.xlabel(\"Absolute Difference (Threshold)\")\n",
    "    plt.ylabel(\"Proportion of Parallelism (%)\")\n",
    "    plt.grid(True)\n",
    "    plt.tight_layout()\n",
    "    plt.show()\n"
   ]
  },
  {
   "cell_type": "code",
   "execution_count": 31,
   "metadata": {},
   "outputs": [
    {
     "data": {
      "image/png": "[encoded data removed]",
      "text/plain": [
       "<Figure size 420x240 with 1 Axes>"
      ]
     },
     "metadata": {
      "needs_background": "light"
     },
     "output_type": "display_data"
    }
   ],
   "source": [
    "plot_Proportion_Diff(intensity_V)"
   ]
  },
  {
   "cell_type": "code",
   "execution_count": 32,
   "metadata": {},
   "outputs": [
    {
     "data": {
      "image/png": "[encoded data removed]",
      "text/plain": [
       "<Figure size 420x240 with 1 Axes>"
      ]
     },
     "metadata": {
      "needs_background": "light"
     },
     "output_type": "display_data"
    }
   ],
   "source": [
    "plot_Proportion_Diff(intensity_A)"
   ]
  },
  {
   "cell_type": "code",
   "execution_count": 33,
   "metadata": {},
   "outputs": [
    {
     "data": {
      "image/png": "[encoded data removed]",
      "text/plain": [
       "<Figure size 420x240 with 1 Axes>"
      ]
     },
     "metadata": {
      "needs_background": "light"
     },
     "output_type": "display_data"
    }
   ],
   "source": [
    "plot_Proportion_Diff(intensity_D)"
   ]
  },
  {
   "cell_type": "markdown",
   "metadata": {},
   "source": [
    "### Syntactic Features"
   ]
  },
  {
   "cell_type": "code",
   "execution_count": 34,
   "metadata": {},
   "outputs": [],
   "source": [
    "# used for comparing 2 phrases as string\n",
    "from difflib import SequenceMatcher\n",
    "\n",
    "def compare(str1, str2):\n",
    "    return SequenceMatcher(None, str1, str2).ratio() \n",
    "# returns the similarity score (float in [0,1]) between input strings, the higher the score is, more similar 2 Strings are. \n"
   ]
  },
  {
   "cell_type": "code",
   "execution_count": 35,
   "metadata": {},
   "outputs": [],
   "source": [
    "# Normalized PoS-tag sequence\n",
    "def get_pos_seq (word_tag_sequence):\n",
    "    pos_sequence = ''.join([w[w.index(\"_\"):w.index(\"_\")+3] for w in word_tag_sequence])\n",
    "    return pos_sequence"
   ]
  },
  {
   "cell_type": "code",
   "execution_count": 36,
   "metadata": {},
   "outputs": [],
   "source": [
    "def similarPoS(sent1, sent2):\n",
    "    if \",_,\" not in sent1 and \",_,\" not in sent2:\n",
    "        simiScore = compare(get_pos_seq(sent1.split()),get_pos_seq(sent2.split()))\n",
    "        return simiScore > 0.74\n",
    "    else:\n",
    "        # If two sentences contains sub-sentences, \n",
    "        # the last subsentence of sent1 and the first subsentence of sent2 are compared (adjacent phrases)\n",
    "        toCompareS1 = sent1.split(\",_,\")[-1].split() \n",
    "        toCompareS2 = sent2.split(\",_,\")[0].split()\n",
    "        simiScore = compare(get_pos_seq(toCompareS1), get_pos_seq(toCompareS2))\n",
    "        return simiScore > 0.79"
   ]
  },
  {
   "cell_type": "code",
   "execution_count": 37,
   "metadata": {},
   "outputs": [],
   "source": [
    "s8 = \"The_DT Capital_NN was_VBD abandoned_VBN ._.\"\n",
    "s9 = \"The_DT enemy_NN was_VBD advancing_VBG ._.\""
   ]
  },
  {
   "cell_type": "code",
   "execution_count": 38,
   "metadata": {},
   "outputs": [
    {
     "data": {
      "text/plain": [
       "True"
      ]
     },
     "execution_count": 38,
     "metadata": {},
     "output_type": "execute_result"
    }
   ],
   "source": [
    "similarPoS(s8, s9)"
   ]
  },
  {
   "cell_type": "markdown",
   "metadata": {},
   "source": [
    "### Baseline "
   ]
  },
  {
   "cell_type": "code",
   "execution_count": 39,
   "metadata": {},
   "outputs": [
    {
     "name": "stdout",
     "output_type": "stream",
     "text": [
      "0.3679417122040073\n"
     ]
    }
   ],
   "source": [
    "precision = 101/448\n",
    "recall = 101/101\n",
    "f_score = 2 * precision * recall / (precision + recall)\n",
    "print(f_score)"
   ]
  },
  {
   "cell_type": "markdown",
   "metadata": {},
   "source": [
    "### Classifier Training"
   ]
  },
  {
   "cell_type": "code",
   "execution_count": 40,
   "metadata": {},
   "outputs": [],
   "source": [
    "def get_features1(sent1, sent2):\n",
    "    features = {}\n",
    "    # Lexical features: Repeated bigrams in specific positions (Anaphora / Epistrophe / Anadiplosis)\n",
    "    features[\"simiLexical\"] = specialParaLexical(sent1, sent2) > 0\n",
    "    # Syntactic features (pos-tag sequence): \n",
    "    features[\"simiSyntactic\"] = similarPoS(sent1, sent2)\n",
    "\n",
    "    domiS1 = getAvgDominance(sent1)\n",
    "    domiS2 = getAvgDominance(sent2)\n",
    "    arouS1 = getAvgArousal(sent1)\n",
    "    arouS2 = getAvgArousal(sent2)\n",
    "    \n",
    "    features[\"highArous\"] = arouS1 > 0.28 and arouS2 > 0.28\n",
    "    features[\"highDomi\"] = domiS1 > 0.37 and domiS2 > 0.37\n",
    "\n",
    "    return features\n"
   ]
  },
  {
   "cell_type": "code",
   "execution_count": 41,
   "metadata": {},
   "outputs": [],
   "source": [
    "import random"
   ]
  },
  {
   "cell_type": "code",
   "execution_count": 42,
   "metadata": {},
   "outputs": [],
   "source": [
    "# define this function for evaluation\n",
    "def compute_PRF(gold, predicted, class_label):\n",
    "    TP = sum(int(g == class_label and p == class_label) for (g, p) in zip (gold, predicted))\n",
    "    FP = sum(int(p == class_label and g != class_label) for (g, p) in zip (gold, predicted)) \n",
    "    FN = sum(int(p != class_label and g == class_label) for (g, p) in zip (gold, predicted))\n",
    "    if TP + FP > 0:\n",
    "        precision = TP/(TP + FP)\n",
    "    else:\n",
    "        precision = 0\n",
    "    if TP + FN > 0:\n",
    "        recall = TP/(TP + FN)\n",
    "    else:\n",
    "        recall = 0\n",
    "    if precision > 0 and recall > 0:\n",
    "        f_measure = 2 * precision * recall / (precision + recall)\n",
    "    else:\n",
    "        f_measure = 0\n",
    "    #print('Precision=%.2f Recall=%.2f F_Measure=%.2f'  %  (precision, recall, f_measure))\n",
    "    return (precision, recall, f_measure)"
   ]
  },
  {
   "cell_type": "code",
   "execution_count": 45,
   "metadata": {},
   "outputs": [
    {
     "name": "stdout",
     "output_type": "stream",
     "text": [
      "\n",
      "cross validated precision for 'T' is:  0.8875829648881204\n",
      "\n",
      "cross validated recall for 'T' is:  0.8930487137383689\n",
      "\n",
      "cross validated f-measure for 'T' is:  0.8861694539113895\n"
     ]
    }
   ],
   "source": [
    "# cross validation\n",
    "k = 5\n",
    "sum_precision = 0\n",
    "sum_recall = 0\n",
    "sum_f_measure = 0\n",
    "random.Random(5).shuffle(dataset) \n",
    "featuresets = [(get_features1(sent1, sent2), tag) for (sent1,sent2, tag) in dataset ]\n",
    "size = len(featuresets)\n",
    "for fold in range(k):\n",
    "    train_set = featuresets[: int(size/k*fold)] + featuresets[int(size/k*(fold+1)):]\n",
    "    devtest_set = featuresets[int(size/k*fold) : int(size/k*(fold+1))]\n",
    "    nb = nltk.NaiveBayesClassifier.train(train_set)\n",
    "    gold = [tag for (sent_feature, tag) in devtest_set]\n",
    "    pred1 = [nb.classify(sent_feature) for (sent_feature, tag) in devtest_set]\n",
    "    sum_precision += compute_PRF(gold, pred1, \"T\")[0]\n",
    "    sum_recall += compute_PRF(gold, pred1, \"T\")[1]\n",
    "    sum_f_measure += compute_PRF(gold, pred1, \"T\")[2]\n",
    "\n",
    "print(\"\\ncross validated precision for 'T' is: \", sum_precision/5)\n",
    "print(\"\\ncross validated recall for 'T' is: \", sum_recall/5)\n",
    "print(\"\\ncross validated f-measure for 'T' is: \", sum_f_measure/5)"
   ]
  },
  {
   "cell_type": "code",
   "execution_count": 47,
   "metadata": {},
   "outputs": [
    {
     "name": "stdout",
     "output_type": "stream",
     "text": [
      "Most Informative Features\n",
      "             simiLexical = True                T : F      =     26.6 : 1.0\n",
      "                highDomi = True                T : F      =      6.5 : 1.0\n",
      "               highArous = True                T : F      =      6.5 : 1.0\n",
      "             simiLexical = False               F : T      =      5.0 : 1.0\n",
      "           simiSyntactic = False               F : T      =      1.2 : 1.0\n"
     ]
    }
   ],
   "source": [
    "nb.show_most_informative_features(5)"
   ]
  },
  {
   "cell_type": "code",
   "execution_count": 48,
   "metadata": {},
   "outputs": [
    {
     "name": "stdout",
     "output_type": "stream",
     "text": [
      "Thomas_NNP Jefferson_NNP believed_VBD that_IN to_TO preserve_VB the_DT very_RB foundations_NNS of_IN our_PRP$ Nation_NNP ,_, we_PRP would_MD need_VB dramatic_JJ change_NN from_IN time_NN to_TO time_NN ._.\n",
      " Well_UH ,_, my_PRP$ fellow_JJ Americans_NNPS ,_, this_DT is_VBZ our_PRP$ time_NN ._.\n",
      "\n",
      "\n",
      "America_NNP will_MD start_VB winning_VBG again_RB ,_, winning_VBG like_IN never_RB before_RB ._.\n",
      " We_PRP will_MD bring_VB back_RP our_PRP$ jobs_NNS ._.\n",
      "\n",
      "\n",
      "We_PRP will_MD seek_VB friendship_NN and_CC good_NN will_MD with_IN the_DT nations_NNS of_IN the_DT world_NN ,_, but_CC we_PRP do_VBP so_RB with_IN the_DT understanding_NN that_IN it_PRP is_VBZ the_DT right_NN of_IN all_DT nations_NNS to_TO put_VB their_PRP$ own_JJ interests_NNS first_RB ._.\n",
      " We_PRP do_VBP not_RB seek_VB to_TO impose_VB our_PRP$ way_NN of_IN life_NN on_IN anyone_NN ,_, but_CC rather_RB to_TO let_VB it_PRP shine_VB as_IN an_DT example—we_NN will_MD shine—for_VB everyone_NN to_TO follow_VB ._.\n",
      "\n",
      "\n",
      "Those_DT ideals_NNS still_RB light_VBP the_DT world_NN ,_, and_CC we_PRP will_MD not_RB give_VB them_PRP up_RP for_IN expedience_NN 's_POS sake_NN ._.\n",
      " And_CC so_RB to_TO all_PDT the_DT other_JJ peoples_NNS and_CC governments_NNS who_WP are_VBP watching_VBG today_NN ,_, from_IN the_DT grandest_JJS capitals_NNS to_TO the_DT small_JJ village_NN where_WRB my_PRP$ father_NN was_VBD born_VBN ,_, know_VBP that_IN America_NNP is_VBZ a_DT friend_NN of_IN each_DT nation_NN and_CC every_DT man_NN ,_, woman_NN ,_, and_CC child_NN who_WP seeks_VBZ a_DT future_NN of_IN peace_NN and_CC dignity_NN ,_, and_CC we_PRP are_VBP ready_JJ to_TO lead_VB once_RB more_JJR ._.\n",
      "\n",
      "\n",
      "We_PRP will_MD begin_VB to_TO responsibly_RB leave_VB Iraq_NNP to_TO its_PRP$ people_NNS and_CC forge_VB a_DT hard-earned_JJ peace_NN in_IN Afghanistan_NNP ._.\n",
      " With_IN old_JJ friends_NNS and_CC former_JJ foes_NNS ,_, we_PRP will_MD work_VB tirelessly_RB to_TO lessen_VB the_DT nuclear_JJ threat_NN and_CC roll_NN back_RB the_DT specter_NN of_IN a_DT warming_NN planet_NN ._.\n",
      "\n",
      "\n",
      "With_IN old_JJ friends_NNS and_CC former_JJ foes_NNS ,_, we_PRP will_MD work_VB tirelessly_RB to_TO lessen_VB the_DT nuclear_JJ threat_NN and_CC roll_NN back_RB the_DT specter_NN of_IN a_DT warming_NN planet_NN ._.\n",
      " We_PRP will_MD not_RB apologize_VB for_IN our_PRP$ way_NN of_IN life_NN ,_, nor_CC will_MD we_PRP waver_VB in_IN its_PRP$ defense_NN ._.\n",
      "\n",
      "\n",
      "We_PRP will_MD reinforce_VB old_JJ alliances_NNS and_CC form_VB new_JJ ones_NNS and_CC unite_VB the_DT civilized_JJ world_NN against_IN radical_JJ Islamic_JJ terrorism_NN ,_, which_WDT we_PRP will_MD eradicate_VB completely_RB from_IN the_DT face_NN of_IN the_DT Earth_NNP ._.\n",
      " At_IN the_DT bedrock_NN of_IN our_PRP$ politics_NNS will_MD be_VB a_DT total_JJ allegiance_NN to_TO the_DT United_NNP States_NNPS of_IN America_NNP ,_, and_CC through_IN our_PRP$ loyalty_NN to_TO our_PRP$ country_NN ,_, we_PRP will_MD rediscover_VB our_PRP$ loyalty_NN to_TO each_DT other_JJ ._.\n",
      "\n",
      "\n",
      "The_DT success_NN of_IN our_PRP$ economy_NN has_VBZ always_RB depended_VBD not_RB just_RB on_IN the_DT size_NN of_IN our_PRP$ gross_JJ domestic_JJ product_NN ,_, but_CC on_IN the_DT reach_NN of_IN our_PRP$ prosperity_NN ,_, on_IN our_PRP$ ability_NN to_TO extend_VB opportunity_NN to_TO every_DT willing_JJ heart_NN ,_, not_RB out_IN of_IN charity_NN ,_, but_CC because_IN it_PRP is_VBZ the_DT surest_JJS route_NN to_TO our_PRP$ common_JJ good_JJ ._.\n",
      " As_IN for_IN our_PRP$ common_JJ defense_NN ,_, we_PRP reject_VBP as_IN false_JJ the_DT choice_NN between_IN our_PRP$ safety_NN and_CC our_PRP$ ideals_NNS ._.\n",
      "\n",
      "\n",
      "Today_NN ,_, a_DT generation_NN raised_VBN in_IN the_DT shadows_NNS of_IN the_DT cold_JJ war_NN assumes_VBZ new_JJ responsibilities_NNS in_IN a_DT world_NN warmed_VBN by_IN the_DT sunshine_NN of_IN freedom_NN but_CC threatened_VBD still_RB by_IN ancient_JJ hatreds_NNS and_CC new_JJ plagues_NNS ._.\n",
      " Raised_VBN in_IN unrivaled_JJ prosperity_NN ,_, we_PRP inherit_VBP an_DT economy_NN that_WDT is_VBZ still_RB the_DT world_NN 's_POS strongest_JJS but_CC is_VBZ weakened_VBN by_IN business_NN failures_NNS ,_, stagnant_JJ wages_NNS ,_, increasing_VBG inequality_NN ,_, and_CC deep_JJ divisions_NNS among_IN our_PRP$ own_JJ people_NNS ._.\n",
      "\n",
      "\n",
      "Homes_NNPS have_VBP been_VBN lost_VBN ,_, jobs_NNS shed_VBD ,_, businesses_NNS shuttered_VBD ._.\n",
      " Our_PRP$ health_NN care_NN is_VBZ too_RB costly_JJ ._.\n",
      "\n",
      "\n",
      " and_CC when_WRB millions_NNS of_IN poor_JJ children_NNS can_MD not_RB even_RB imagine_VB the_DT lives_NNS we_PRP are_VBP calling_VBG them_PRP to_TO lead_VB ,_, we_PRP have_VBP not_RB made_VBN change_NN our_PRP$ friend_NN ._.\n",
      " We_PRP know_VBP we_PRP have_VBP to_TO face_VB hard_JJ truths_NNS and_CC take_VB strong_JJ steps_NNS ,_, but_CC we_PRP have_VBP not_RB done_VBN so_RB ;_:\n",
      "\n",
      "\n",
      "Church_NNP and_CC charity_NN ,_, synagogue_NN and_CC mosque_NN lend_VBP our_PRP$ communities_NNS their_PRP$ humanity_NN ,_, and_CC they_PRP will_MD have_VB an_DT honored_VBN place_NN in_IN our_PRP$ plans_NNS and_CC in_IN our_PRP$ laws_NNS ._.\n",
      " Many_JJ in_IN our_PRP$ country_NN do_VBP not_RB know_VB the_DT pain_NN of_IN poverty_NN ._.\n",
      "\n",
      "\n"
     ]
    }
   ],
   "source": [
    "# False Positives\n",
    "for (sent1,sent2, tag) in dataset:\n",
    "    if nb.classify(get_features1(sent1, sent2)) == 'T' and tag == 'F':\n",
    "        print(sent1, sent2)\n",
    "        print()"
   ]
  },
  {
   "cell_type": "code",
   "execution_count": 100,
   "metadata": {},
   "outputs": [
    {
     "data": {
      "text/plain": [
       "{'simiLexical': False,\n",
       " 'simiSyntactic': False,\n",
       " 'highArous': True,\n",
       " 'highDomi': True}"
      ]
     },
     "execution_count": 100,
     "metadata": {},
     "output_type": "execute_result"
    }
   ],
   "source": [
    "get_features1(\n",
    "    \"Homes_NNPS have_VBP been_VBN lost_VBN ,_, jobs_NNS shed_VBD ,_, businesses_NNS shuttered_VBD ._.\",\n",
    " \"Our_PRP$ health_NN care_NN is_VBZ too_RB costly_JJ ._.\"\n",
    ")"
   ]
  },
  {
   "cell_type": "code",
   "execution_count": 51,
   "metadata": {},
   "outputs": [
    {
     "name": "stdout",
     "output_type": "stream",
     "text": [
      "But_CC when_WRB most_JJS people_NNS are_VBP working_VBG harder_RBR for_IN less_JJR ;_:\n",
      "  when_WRB others_NNS can_MD not_RB work_VB at_IN all_DT ;_:\n",
      "\n",
      "\n",
      "Our_PRP$ workers_NNS are_VBP no_RB less_RBR productive_JJ than_IN when_WRB this_DT crisis_NN began_VBD ._.\n",
      " Our_PRP$ minds_NNS are_VBP no_RB less_RBR inventive_JJ ._.\n",
      "\n",
      "\n",
      "From_IN this_DT this_DT day_NN forward_RB ,_, it_PRP 's_VBZ going_VBG to_TO be_VB only_RB America_NNP first_RB ._.\n",
      " America_NNP first_RB ._.\n",
      "\n",
      "\n",
      "And_CC you_PRP have_VBP changed_VBN the_DT face_NN of_IN Congress_NNP ,_, the_DT Presidency_NNP ,_, and_CC the_DT political_JJ process_NN itself_PRP ._.\n",
      " Yes_UH ,_, you_PRP ,_, my_PRP$ fellow_JJ Americans_NNPS ,_, have_VBP forced_VBN the_DT spring_NN ._.\n",
      "\n",
      "\n",
      " that_IN whether_IN we_PRP are_VBP Black_JJ or_CC Brown_JJ or_CC White_NNP ,_, we_PRP all_DT bleed_VBP the_DT same_JJ red_JJ blood_NN of_IN patriots_NNS ,_, we_PRP all_DT enjoy_VBP the_DT same_JJ glorious_JJ freedoms_NNS ,_, and_CC we_PRP all_DT salute_VBP the_DT same_JJ great_JJ American_JJ flag_NN ._.\n",
      " And_CC whether_IN a_DT child_NN is_VBZ born_VBN in_IN the_DT urban_JJ sprawl_NN of_IN Detroit_NNP or_CC the_DT windswept_JJ plains_NNS of_IN Nebraska_NNP ,_, they_PRP look_VBP up_RP at_IN the_DT same_JJ night_NN sky_NN ,_, they_PRP fill_VBP their_PRP$ heart_NN with_IN the_DT same_JJ dreams_NNS ,_, and_CC they_PRP are_VBP infused_VBN with_IN the_DT breath_NN of_IN life_NN by_IN the_DT same_JJ almighty_NN Creator_NNP ._.\n",
      "\n",
      "\n",
      "Abandonment_NN and_CC abuse_NN are_VBP not_RB acts_NNS of_IN God_NNP ;_:\n",
      "  they_PRP are_VBP failures_NNS of_IN love_NN ._.\n",
      "\n",
      "\n",
      "Technology_NNP is_VBZ almost_RB magical_JJ ._.\n",
      " And_CC ambition_NN for_IN a_DT better_JJR life_NN is_VBZ now_RB universal_JJ ._.\n",
      "\n",
      "\n",
      "To_TO those_DT who_WP cling_VBP to_TO power_NN through_IN corruption_NN and_CC deceit_NN and_CC the_DT silencing_NN of_IN dissent_NN ,_, know_VBP that_IN you_PRP are_VBP on_IN the_DT wrong_JJ side_NN of_IN history_NN ,_, but_CC that_IN we_PRP will_MD extend_VB a_DT hand_NN if_IN you_PRP are_VBP willing_JJ to_TO unclench_VB your_PRP$ fist_NN ._.\n",
      " To_TO the_DT people_NNS of_IN poor_JJ nations_NNS ,_, we_PRP pledge_NN to_TO work_VB alongside_IN you_PRP to_TO make_VB your_PRP$ farms_NNS flourish_VB and_CC let_VB clean_JJ waters_NNS flow_NN ,_, to_TO nourish_VB starved_VBN bodies_NNS and_CC feed_NN hungry_JJ minds_NNS ._.\n",
      "\n",
      "\n",
      "Our_PRP$ minds_NNS are_VBP no_RB less_RBR inventive_JJ ._.\n",
      " Our_PRP$ goods_NNS and_CC services_NNS no_RB less_RBR needed_VBN than_IN they_PRP were_VBD last_JJ week_NN or_CC last_JJ month_NN or_CC last_JJ year_NN ._.\n",
      "\n",
      "\n",
      "The_DT time_NN for_IN empty_JJ talk_NN is_VBZ over_IN ._.\n",
      " Now_RB arrives_VBZ the_DT hour_NN of_IN action_NN ._.\n",
      "\n",
      "\n",
      "If_IN our_PRP$ country_NN does_VBZ not_RB lead_VB the_DT cause_NN of_IN freedom_NN ,_, it_PRP will_MD not_RB be_VB led_VBN ._.\n",
      " If_IN we_PRP do_VBP not_RB turn_VB the_DT hearts_NNS of_IN children_NNS toward_IN knowledge_NN and_CC character_NN ,_, we_PRP will_MD lose_VB their_PRP$ gifts_NNS and_CC undermine_VBP their_PRP$ idealism_NN ._.\n",
      "\n",
      "\n"
     ]
    }
   ],
   "source": [
    "# False Negatives\n",
    "for (sent1,sent2, tag) in dataset:\n",
    "    if nb.classify(get_features1(sent1,sent2)) == 'F' and tag == 'T':\n",
    "        print(sent1,sent2)\n",
    "        print()"
   ]
  },
  {
   "cell_type": "code",
   "execution_count": 75,
   "metadata": {},
   "outputs": [],
   "source": [
    "def get_features2(sent1, sent2):\n",
    "    features = {}\n",
    "    # Lexical features: Repeated bigrams in specific positions (Anaphora / Epistrophe / Anadiplosis)\n",
    "    features[\"simiLexical\"] = specialParaLexical(sent1, sent2) > 0\n",
    "    # Syntactic features (pos-tag sequence): \n",
    "    features[\"simiSyntactic\"] = similarPoS(sent1, sent2)\n",
    "\n",
    "    domiS1 = getAvgDominance(sent1)\n",
    "    domiS2 = getAvgDominance(sent2)\n",
    "    arouS1 = getAvgArousal(sent1)\n",
    "    arouS2 = getAvgArousal(sent2)\n",
    "    valenceS1 = getAvgV(sent1)\n",
    "    valenceS2 = getAvgV(sent2)\n",
    "    \n",
    "    features[\"simiArous\"] = abs(arouS1 - arouS2) < 0.06\n",
    "    features[\"simiDomi\"] = abs(domiS1 - domiS2) < 0.06\n",
    "    features[\"simiV\"] = abs(valenceS1 - valenceS2) < 0.01\n",
    "    \n",
    "    features[\"highArous\"] = arouS1 > 0.28 and arouS2 > 0.28\n",
    "    features[\"highDomi\"] = domiS1 > 0.37 and domiS2 > 0.37\n",
    "    \n",
    "    #print(1)\n",
    "    return features\n"
   ]
  },
  {
   "cell_type": "code",
   "execution_count": 76,
   "metadata": {},
   "outputs": [
    {
     "data": {
      "text/plain": [
       "448"
      ]
     },
     "execution_count": 76,
     "metadata": {},
     "output_type": "execute_result"
    }
   ],
   "source": [
    "# Extract features from the sentence pairs and store them in proper format.\n",
    "transformed_data = []\n",
    "for [sent1, sent2, tag] in dataset:\n",
    "    features_tag = []\n",
    "    simiLexical = get_features2(sent1,sent2)[\"simiLexical\"]\n",
    "    simiSyntactic = get_features2(sent1,sent2)[\"simiSyntactic\"]\n",
    "    highDomi = get_features2(sent1,sent2)[\"highDomi\"]\n",
    "    highArous = get_features2(sent1,sent2)[\"highArous\"]\n",
    "    simiDomi = get_features2(sent1,sent2)[\"simiDomi\"]\n",
    "    simiArous = get_features2(sent1,sent2)[\"simiArous\"]\n",
    "    simiV = get_features2(sent1,sent2)[\"simiV\"]\n",
    "    \n",
    "    features_tag.extend([sent1,sent2, simiLexical,simiSyntactic,highDomi,highArous,simiDomi,simiArous,simiV,tag])\n",
    "    transformed_data.append(features_tag)  # use append to maintain list form\n",
    "len(transformed_data)"
   ]
  },
  {
   "cell_type": "code",
   "execution_count": 77,
   "metadata": {},
   "outputs": [
    {
     "data": {
      "text/html": [
       "<div>\n",
       "<style scoped>\n",
       "    .dataframe tbody tr th:only-of-type {\n",
       "        vertical-align: middle;\n",
       "    }\n",
       "\n",
       "    .dataframe tbody tr th {\n",
       "        vertical-align: top;\n",
       "    }\n",
       "\n",
       "    .dataframe thead th {\n",
       "        text-align: right;\n",
       "    }\n",
       "</style>\n",
       "<table border=\"1\" class=\"dataframe\">\n",
       "  <thead>\n",
       "    <tr style=\"text-align: right;\">\n",
       "      <th></th>\n",
       "      <th>sent1</th>\n",
       "      <th>sent2</th>\n",
       "      <th>simiLexical</th>\n",
       "      <th>simiSyntactic</th>\n",
       "      <th>highDomi</th>\n",
       "      <th>highArous</th>\n",
       "      <th>simiDomi</th>\n",
       "      <th>simiArous</th>\n",
       "      <th>simiV</th>\n",
       "      <th>tag</th>\n",
       "    </tr>\n",
       "  </thead>\n",
       "  <tbody>\n",
       "    <tr>\n",
       "      <th>0</th>\n",
       "      <td>We_PRP 've_VBP defended_VBN other_JJ nations_N...</td>\n",
       "      <td>We_PRP 've_VBP made_VBN other_JJ countries_NNS...</td>\n",
       "      <td>True</td>\n",
       "      <td>False</td>\n",
       "      <td>False</td>\n",
       "      <td>False</td>\n",
       "      <td>False</td>\n",
       "      <td>True</td>\n",
       "      <td>False</td>\n",
       "      <td>T</td>\n",
       "    </tr>\n",
       "    <tr>\n",
       "      <th>1</th>\n",
       "      <td>And_CC to_TO those_DT nations_NNS like_IN ours...</td>\n",
       "      <td>As_IN we_PRP consider_VBP the_DT road_NN that_...</td>\n",
       "      <td>False</td>\n",
       "      <td>False</td>\n",
       "      <td>False</td>\n",
       "      <td>False</td>\n",
       "      <td>True</td>\n",
       "      <td>True</td>\n",
       "      <td>False</td>\n",
       "      <td>F</td>\n",
       "    </tr>\n",
       "    <tr>\n",
       "      <th>2</th>\n",
       "      <td>You_PRP came_VBD by_IN the_DT tens_NNS of_IN m...</td>\n",
       "      <td>At_IN the_DT center_NN of_IN this_DT movement_...</td>\n",
       "      <td>False</td>\n",
       "      <td>False</td>\n",
       "      <td>False</td>\n",
       "      <td>False</td>\n",
       "      <td>False</td>\n",
       "      <td>True</td>\n",
       "      <td>True</td>\n",
       "      <td>F</td>\n",
       "    </tr>\n",
       "    <tr>\n",
       "      <th>3</th>\n",
       "      <td>These_DT things_NNS are_VBP true_JJ ._.\\n</td>\n",
       "      <td>They_PRP have_VBP been_VBN the_DT quiet_JJ for...</td>\n",
       "      <td>False</td>\n",
       "      <td>False</td>\n",
       "      <td>True</td>\n",
       "      <td>False</td>\n",
       "      <td>True</td>\n",
       "      <td>True</td>\n",
       "      <td>False</td>\n",
       "      <td>F</td>\n",
       "    </tr>\n",
       "    <tr>\n",
       "      <th>4</th>\n",
       "      <td>Though_IN our_PRP$ challenges_NNS are_VBP fear...</td>\n",
       "      <td>Americans_NNPS have_VBP ever_RB been_VBN a_DT ...</td>\n",
       "      <td>False</td>\n",
       "      <td>False</td>\n",
       "      <td>False</td>\n",
       "      <td>True</td>\n",
       "      <td>True</td>\n",
       "      <td>True</td>\n",
       "      <td>False</td>\n",
       "      <td>F</td>\n",
       "    </tr>\n",
       "  </tbody>\n",
       "</table>\n",
       "</div>"
      ],
      "text/plain": [
       "                                               sent1  \\\n",
       "0  We_PRP 've_VBP defended_VBN other_JJ nations_N...   \n",
       "1  And_CC to_TO those_DT nations_NNS like_IN ours...   \n",
       "2  You_PRP came_VBD by_IN the_DT tens_NNS of_IN m...   \n",
       "3          These_DT things_NNS are_VBP true_JJ ._.\\n   \n",
       "4  Though_IN our_PRP$ challenges_NNS are_VBP fear...   \n",
       "\n",
       "                                               sent2  simiLexical  \\\n",
       "0  We_PRP 've_VBP made_VBN other_JJ countries_NNS...         True   \n",
       "1  As_IN we_PRP consider_VBP the_DT road_NN that_...        False   \n",
       "2  At_IN the_DT center_NN of_IN this_DT movement_...        False   \n",
       "3  They_PRP have_VBP been_VBN the_DT quiet_JJ for...        False   \n",
       "4  Americans_NNPS have_VBP ever_RB been_VBN a_DT ...        False   \n",
       "\n",
       "   simiSyntactic  highDomi  highArous  simiDomi  simiArous  simiV tag  \n",
       "0          False     False      False     False       True  False   T  \n",
       "1          False     False      False      True       True  False   F  \n",
       "2          False     False      False     False       True   True   F  \n",
       "3          False      True      False      True       True  False   F  \n",
       "4          False     False       True      True       True  False   F  "
      ]
     },
     "execution_count": 77,
     "metadata": {},
     "output_type": "execute_result"
    }
   ],
   "source": [
    "df_data = pd.DataFrame(transformed_data, columns = ['sent1','sent2','simiLexical','simiSyntactic','highDomi','highArous','simiDomi','simiArous','simiV','tag'])\n",
    "df_data.head(5)\n",
    "\n"
   ]
  },
  {
   "cell_type": "code",
   "execution_count": 78,
   "metadata": {},
   "outputs": [],
   "source": [
    "feature_cols = ['simiLexical','simiSyntactic','highDomi','highArous','simiDomi','simiArous','simiV']\n",
    "\n",
    "X = df_data[feature_cols]\n",
    "y = df_data.tag "
   ]
  },
  {
   "cell_type": "code",
   "execution_count": 79,
   "metadata": {},
   "outputs": [],
   "source": [
    "# Feature selection\n",
    "from sklearn.feature_selection import SelectKBest, chi2\n"
   ]
  },
  {
   "cell_type": "code",
   "execution_count": 91,
   "metadata": {
    "scrolled": true
   },
   "outputs": [
    {
     "name": "stdout",
     "output_type": "stream",
     "text": [
      "[ True  True  True  True False False False]\n"
     ]
    }
   ],
   "source": [
    "sel_chi2 = SelectKBest(chi2, k=4)    # select 4 features\n",
    "X_withEmo = sel_chi2.fit_transform(X, y)\n",
    "print(sel_chi2.get_support())"
   ]
  },
  {
   "cell_type": "code",
   "execution_count": 99,
   "metadata": {},
   "outputs": [
    {
     "name": "stdout",
     "output_type": "stream",
     "text": [
      "[ True  True  True False False False False]\n"
     ]
    }
   ],
   "source": [
    "sel_chi2 = SelectKBest(chi2, k=3)    # select 3 features\n",
    "X_3Best = sel_chi2.fit_transform(X, y)\n",
    "print(sel_chi2.get_support())"
   ]
  },
  {
   "cell_type": "code",
   "execution_count": 81,
   "metadata": {},
   "outputs": [
    {
     "name": "stdout",
     "output_type": "stream",
     "text": [
      "[ True  True False False False False False]\n"
     ]
    }
   ],
   "source": [
    "sel_chi2 = SelectKBest(chi2, k=2)    # select 2 features\n",
    "X_noEmo = sel_chi2.fit_transform(X, y)\n",
    "print(sel_chi2.get_support())"
   ]
  },
  {
   "cell_type": "code",
   "execution_count": 82,
   "metadata": {},
   "outputs": [],
   "source": [
    "# use cross validation to evaluate the results:\n",
    "from sklearn.cross_validation import train_test_split, cross_val_score, cross_val_predict\n",
    "from sklearn import metrics"
   ]
  },
  {
   "cell_type": "code",
   "execution_count": 83,
   "metadata": {},
   "outputs": [],
   "source": [
    "# Try different algorithms\n",
    "from sklearn.neighbors import KNeighborsClassifier\n",
    "from sklearn.linear_model import LogisticRegression\n",
    "from sklearn.svm import LinearSVC \n",
    "\n",
    "# initialize classifiers\n",
    "knn = KNeighborsClassifier()\n",
    "lr = LogisticRegression()\n",
    "svc = LinearSVC()"
   ]
  },
  {
   "cell_type": "code",
   "execution_count": 84,
   "metadata": {},
   "outputs": [],
   "source": [
    "from sklearn.cross_validation import KFold\n",
    "kf_5 = KFold(n = 448, n_folds = 5)"
   ]
  },
  {
   "cell_type": "code",
   "execution_count": 85,
   "metadata": {},
   "outputs": [],
   "source": [
    "def tryClassifier(Text, labels, clf, evaluation_tag):\n",
    "    precisions = 0\n",
    "    recalls = 0\n",
    "    f_measures = 0\n",
    "    # For each iteration: 1 fold out of 5 folds are used as test set and the other 4 folds as training set.\n",
    "    # At the end every fold is used as test set once.\n",
    "    # The average scores are considered as cross-validated (CV) scores.\n",
    "    \n",
    "    for (train_index, test_index) in kf_5:  \n",
    "        X_train, X_test = np.asarray(Text)[train_index], np.asarray(Text)[test_index]  # convert dataFrame(X,y) into array!\n",
    "        y_train, y_test = np.asarray(labels)[train_index], np.asarray(labels)[test_index]  # Because index works with array!\n",
    "        \n",
    "        clf.fit(X_train, y_train)\n",
    "        tag_pred = clf.predict(X_test)\n",
    "        \n",
    "        #print(metrics.classification_report(y_test, tag_pred)) \n",
    "        # The line above can be used if detailed evaluation-info for each train/test set is wanted.\n",
    "\n",
    "        precisions += metrics.precision_score(y_test, tag_pred,  pos_label = evaluation_tag)\n",
    "        recalls += metrics.recall_score(y_test, tag_pred, pos_label = evaluation_tag)\n",
    "        f_measures += metrics.f1_score(y_test, tag_pred, pos_label = evaluation_tag)\n",
    "  \n",
    "    \n",
    "    print(evaluation_tag, \": CV_Precion: \", round(precisions/5,4), \"CV_Recall:\", round(recalls/5,4),\"CV_F_measure: \", round(f_measures/5, 4))\n",
    "\n",
    "\n"
   ]
  },
  {
   "cell_type": "code",
   "execution_count": 86,
   "metadata": {},
   "outputs": [
    {
     "name": "stdout",
     "output_type": "stream",
     "text": [
      "T : CV_Precion:  0.8978 CV_Recall: 0.8877 CV_F_measure:  0.8902\n",
      "T : CV_Precion:  0.8967 CV_Recall: 0.8655 CV_F_measure:  0.877\n",
      "T : CV_Precion:  0.8978 CV_Recall: 0.8877 CV_F_measure:  0.8902\n"
     ]
    }
   ],
   "source": [
    "# used features: 'simiLexical','simiSyntactic'\n",
    "tryClassifier(X_noEmo, y, knn,\"T\")\n",
    "tryClassifier(X_noEmo, y, lr,\"T\")\n",
    "tryClassifier(X_noEmo, y, svc,\"T\")"
   ]
  },
  {
   "cell_type": "code",
   "execution_count": 92,
   "metadata": {},
   "outputs": [
    {
     "name": "stdout",
     "output_type": "stream",
     "text": [
      "T : CV_Precion:  0.8971 CV_Recall: 0.8618 CV_F_measure:  0.8747\n",
      "T : CV_Precion:  0.8971 CV_Recall: 0.8618 CV_F_measure:  0.8747\n",
      "T : CV_Precion:  0.8978 CV_Recall: 0.8877 CV_F_measure:  0.8902\n"
     ]
    }
   ],
   "source": [
    "# used features: 'simiLexical','simiSyntactic','highDomi','highArous'\n",
    "tryClassifier(X_withEmo, y, knn,\"T\")\n",
    "tryClassifier(X_withEmo, y, lr,\"T\")\n",
    "tryClassifier(X_withEmo, y, svc,\"T\")"
   ]
  },
  {
   "cell_type": "code",
   "execution_count": 97,
   "metadata": {},
   "outputs": [
    {
     "data": {
      "text/plain": [
       "-0.0022999999999999687"
      ]
     },
     "execution_count": 97,
     "metadata": {},
     "output_type": "execute_result"
    }
   ],
   "source": [
    " 0.8747 - 0.877"
   ]
  },
  {
   "cell_type": "code",
   "execution_count": null,
   "metadata": {},
   "outputs": [],
   "source": []
  }
 ],
 "metadata": {
  "kernelspec": {
   "display_name": "Python 3",
   "language": "python",
   "name": "python3"
  },
  "language_info": {
   "codemirror_mode": {
    "name": "ipython",
    "version": 3
   },
   "file_extension": ".py",
   "mimetype": "text/x-python",
   "name": "python",
   "nbconvert_exporter": "python",
   "pygments_lexer": "ipython3",
   "version": "3.7.0"
  }
 },
 "nbformat": 4,
 "nbformat_minor": 2
}
